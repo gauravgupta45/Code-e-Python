{
 "cells": [
  {
   "cell_type": "markdown",
   "metadata": {},
   "source": [
    "## 1. If a = {5,6,7}, what is the output of a.add(5) when executed? "
   ]
  },
  {
   "cell_type": "code",
   "execution_count": 1,
   "metadata": {},
   "outputs": [
    {
     "name": "stdout",
     "output_type": "stream",
     "text": [
      "{5, 6, 7}\n"
     ]
    }
   ],
   "source": [
    "# The output will be a={5,6,7}. Since add operation will add element to set only if the passed number is not present in the set"
   ]
  },
  {
   "cell_type": "markdown",
   "metadata": {},
   "source": [
    "## 2. Remove the elemnt of given tuple. \n",
    "### tup = ('e','x','e','r','c','i','s','e','s')\n"
   ]
  },
  {
   "cell_type": "code",
   "execution_count": 14,
   "metadata": {},
   "outputs": [
    {
     "name": "stdout",
     "output_type": "stream",
     "text": [
      "('e', 'x', 'e', 'r', 'c', 'i', 's', 'e')\n"
     ]
    }
   ],
   "source": [
    "tup = 'e','x','e','r','c','i','s','e','s'\n",
    "print(tup[:len(tup)-1])"
   ]
  },
  {
   "cell_type": "markdown",
   "metadata": {},
   "source": [
    "## 3. Given List [1,\"Hello World\",3.4,\"Bye\"]\n",
    "* Add the following list to the above list: ['google','facebook','microsoft','tesla','apple']\n",
    "* Enter Your Roll No. as input and convert it into list and append it into above list.\n",
    "* Store the resultanat list in a new variable and then print it.\n",
    "* Separte the list in aplhanbets and no.'s and store in asc order.\n",
    "* Then Print"
   ]
  },
  {
   "cell_type": "code",
   "execution_count": 20,
   "metadata": {},
   "outputs": [
    {
     "name": "stdout",
     "output_type": "stream",
     "text": [
      "Enter Your Roll No.1710992147\n",
      "['0', '1', '1', '1', '1', '2', '3.4', '4', '7', '7', '9', '9', 'Bye', 'Hello', 'apple', 'facebook', 'google', 'microsoft', 'tesla']\n"
     ]
    }
   ],
   "source": [
    "l1 = [1,'Hello',3.4,'Bye']\n",
    "l2 = ['google','facebook','microsoft','tesla','apple']\n",
    "l1 = l1+l2\n",
    "roll = int(input(\"Enter Your Roll No.\"))\n",
    "roll_list = [int(x) for x in str(roll)] \n",
    "l1 = l1+roll_list\n",
    "rlist = l1.copy()\n",
    "#rlist = sorted(str(x) for x in rlist)\n",
    "print(rlist.sort(str(x)))"
   ]
  },
  {
   "cell_type": "markdown",
   "metadata": {},
   "source": [
    "## 4. Reverse List: demo_list = [5,3,2,7,1]"
   ]
  },
  {
   "cell_type": "code",
   "execution_count": 24,
   "metadata": {},
   "outputs": [
    {
     "name": "stdout",
     "output_type": "stream",
     "text": [
      "[1, 7, 2, 3, 5]\n"
     ]
    }
   ],
   "source": [
    "demo_list = [5,3,2,7,1]\n",
    "print(demo_list[::-1])"
   ]
  },
  {
   "cell_type": "markdown",
   "metadata": {},
   "source": [
    "## 5. Create a user defined tuple.\n",
    "* Find the largest and smallest elements of a tuple and print it.\n",
    "* Print the tuple in reverse order.\n",
    "* Identify length of the tuple and then print it\n",
    "* Slice the tuple with jumping every 3 itmes and then print it."
   ]
  },
  {
   "cell_type": "code",
   "execution_count": 52,
   "metadata": {},
   "outputs": [
    {
     "name": "stdout",
     "output_type": "stream",
     "text": [
      "Enter Elements for tuple: 2 v 3 a 6 d s g p\n",
      "Max Ele: v\n",
      "Min Ele: 2\n",
      "Reverse Order: ('p', 'g', 's', 'd', '6', 'a', '3', 'v', '2')\n",
      "Length of Tuple: 9\n",
      "Modified Tuple: ('2', '6', 'p')\n"
     ]
    }
   ],
   "source": [
    "d = input(\"Enter Elements for tuple: \")\n",
    "d = d.replace(\" \",\"\")\n",
    "l1 = [str(x) for(x) in d]\n",
    "t1 = tuple(l1)\n",
    "print(\"Max Ele: {0}\\nMin Ele: {1}\\nReverse Order: {2}\\nLength of Tuple: {3}\".format(max(t1),min(t1),t1[::-1],len(t1)))\n",
    "print(\"Modified Tuple: {}\".format(t1[::4]))\n"
   ]
  },
  {
   "cell_type": "markdown",
   "metadata": {},
   "source": [
    "## 6. Give List: l1 = ['p','r','o','b','l','e','m']. Use Slicing to:\n",
    "* Print first 5 elements\n",
    "* Print last 5 elememts\n",
    "* Print all elements except first 5\n",
    "* Print all elements except last 5"
   ]
  },
  {
   "cell_type": "code",
   "execution_count": 63,
   "metadata": {},
   "outputs": [
    {
     "name": "stdout",
     "output_type": "stream",
     "text": [
      "['p', 'r', 'o', 'b', 'l']\n",
      "['o', 'b', 'l', 'e', 'm']\n",
      "['e', 'm']\n",
      "['p', 'r']\n"
     ]
    }
   ],
   "source": [
    "l1 = ['p','r','o','b','l','e','m']\n",
    "print(l1[:5])\n",
    "print(l1[2:])\n",
    "print(l1[5:])\n",
    "print(l1[:2])"
   ]
  },
  {
   "cell_type": "markdown",
   "metadata": {},
   "source": [
    "## 7. Given List: list1 = [1,3,[7,4],6,8,9]\n",
    "* Make a deepcopy of above list in a new variable and then print list.\n",
    "* Moddify the first elemnt of [7,4] in list1.\n",
    "* Compare with list1. Is it equal or not. Write Yes or No.\n",
    "* Make a shallow copy of the list1(reuse the provided list values) in a new variable and then print the list\n",
    "* Modify the element at index 4 and then print the new list\n",
    "* Compare with list1. Is it equal or not. Write Yes or No."
   ]
  },
  {
   "cell_type": "code",
   "execution_count": 69,
   "metadata": {},
   "outputs": [
    {
     "name": "stdout",
     "output_type": "stream",
     "text": [
      "[1, 3, [7, 4], 6, 8, 9]\n",
      "No\n",
      "[1, 3, [7, 4], 6, 8, 9]\n",
      "Yes\n"
     ]
    }
   ],
   "source": [
    "import copy\n",
    "d1 = [1,3,[7,4],6,8,9]\n",
    "d2 = copy.deepcopy(d1)\n",
    "print(d2)\n",
    "d1[2][0] = 5\n",
    "print(\"Yes\") if(d1 == d2) else print(\"No\")\n",
    "\n",
    "s1 = [1,3,[7,4],6,8,9]\n",
    "s2 = copy.copy(s1)\n",
    "print(s2)\n",
    "s1[2][0] = 5\n",
    "print(\"Yes\") if(s1 == s2) else print(\"No\")"
   ]
  },
  {
   "cell_type": "markdown",
   "metadata": {},
   "source": [
    "## 8. Given are 2 lists A and B which are sorted in ascending order. WAP to merge them into a single sorted list C that contains every item from list A and B, in asc order."
   ]
  },
  {
   "cell_type": "code",
   "execution_count": 76,
   "metadata": {},
   "outputs": [
    {
     "name": "stdout",
     "output_type": "stream",
     "text": [
      "[2, 5, 6, 7, 11, 19, 45]\n"
     ]
    }
   ],
   "source": [
    "l1 = [5,7,11]\n",
    "l2 = [2,6,19,45]\n",
    "print(sorted(l1+l2))"
   ]
  },
  {
   "cell_type": "code",
   "execution_count": null,
   "metadata": {},
   "outputs": [],
   "source": []
  }
 ],
 "metadata": {
  "kernelspec": {
   "display_name": "Python 3",
   "language": "python",
   "name": "python3"
  },
  "language_info": {
   "codemirror_mode": {
    "name": "ipython",
    "version": 3
   },
   "file_extension": ".py",
   "mimetype": "text/x-python",
   "name": "python",
   "nbconvert_exporter": "python",
   "pygments_lexer": "ipython3",
   "version": "3.7.7"
  }
 },
 "nbformat": 4,
 "nbformat_minor": 4
}
