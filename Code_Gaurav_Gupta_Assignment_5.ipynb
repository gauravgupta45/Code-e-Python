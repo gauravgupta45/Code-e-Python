{
 "cells": [
  {
   "cell_type": "markdown",
   "metadata": {},
   "source": [
    "## 1. Save the following passage in .txt file. Solve the below questions using this file.\n",
    "* Write a Python program to read last n lines of a file.\n",
    "* Write a Python program to count the frequency of words in a file.\n",
    "* Write a Python program to copy the contents of a file to another file\n",
    "* Write a Python program to combine each line from first file with the corresponding line in second file.\n",
    "* Write a Python program to write 10 random numbers into a file and then sort the numbers and then store it to another file.\n",
    "\n",
    "\n"
   ]
  },
  {
   "cell_type": "code",
   "execution_count": 2,
   "metadata": {},
   "outputs": [
    {
     "name": "stdout",
     "output_type": "stream",
     "text": [
      "Last lines: 3\n",
      "do one thing but sing their hearts out for us.\n",
      "That’s why it’s a sin to kill a mockingbird.” – Harper Lee, To Kill a\n",
      "Mockingbird\n"
     ]
    }
   ],
   "source": [
    "f = open('test.txt','r',encoding=\"utf8\")\n",
    "n = int(input(\"Last lines: \"))\n",
    "lines = [str(x) for x in (f.readlines())[-n:]]\n",
    "lines = ''.join(lines)\n",
    "print(lines)\n",
    "f.close()"
   ]
  },
  {
   "cell_type": "code",
   "execution_count": 28,
   "metadata": {},
   "outputs": [
    {
     "name": "stdout",
     "output_type": "stream",
     "text": [
      "[1, 1, 5, 1, 3, 1, 1, 1, 3, 1, 1, 1, 1, 2, 3, 1, 3, 3, 1, 1, 1, 1, 1, 1, 1, 3, 1, 1, 3, 1, 1, 3, 1, 1, 1, 3, 1, 2, 6, 3, 5, 2, 6, 2, 1, 2, 3, 1, 1, 3, 1, 1, 1, 1, 1, 2, 6, 3, 5, 3, 1, 1, 3, 1, 1, 1, 1, 1, 1, 1, 1, 1, 1, 1, 4, 3, 3, 2, 1, 1, 1, 2, 1, 5, 1, 1, 4, 1, 1, 1, 1, 4, 1, 2, 1, 1, 1, 4, 3, 3, 2, 3, 1, 1, 1, 1, 2, 1, 1, 1, 2, 6, 3, 5, 2, 6, 2, 1, 1, 1, 1, 1, 6, 1]\n"
     ]
    }
   ],
   "source": [
    "f = open('test.txt','r',encoding=\"utf8\")\n",
    "data = f.read()\n",
    "data = data.split()\n",
    "count =[]\n",
    "for w in data:\n",
    "    count.append(data.count(w))\n",
    "print(count)\n",
    "f.close()"
   ]
  },
  {
   "cell_type": "code",
   "execution_count": 47,
   "metadata": {},
   "outputs": [
    {
     "name": "stdout",
     "output_type": "stream",
     "text": [
      "“Atticus said to Jem one day, “I’d rather you shot at tin cans in the\n",
      "backyard, but I know you’ll go after birds.\n",
      "Shoot all the blue jays you want, if you can hit ‘em, but remember it’s\n",
      "a sin to kill a mockingbird.”\n",
      "That was the only time I ever heard Atticus say it was a sin to do\n",
      "something, and I asked Miss Maudie about it.\n",
      "“Your father’s right,” she said. “Mockingbirds don’t do one thing\n",
      "except make music for us to enjoy.\n",
      "They don’t eat up people’s gardens, don’t nest in corn cribs, they don’t\n",
      "do one thing but sing their hearts out for us.\n",
      "That’s why it’s a sin to kill a mockingbird.” – Harper Lee, To Kill a\n",
      "Mockingbird\n"
     ]
    }
   ],
   "source": [
    "f1 = open('test.txt','r',encoding=\"utf8\")\n",
    "org_data = f1.read()\n",
    "f2 = open('xyz.txt','w+',encoding=\"utf8\")\n",
    "f2.write(org_data)\n",
    "f2 = open('xyz.txt','r',encoding=\"utf8\")\n",
    "cop_data = f2.read()\n",
    "print(cop_data)\n",
    "f1.close()\n",
    "f2.close()"
   ]
  },
  {
   "cell_type": "code",
   "execution_count": 56,
   "metadata": {},
   "outputs": [
    {
     "name": "stdout",
     "output_type": "stream",
     "text": [
      "Smith Bayse\n",
      "Johnson Peter\n",
      "Williams Bazley\n",
      "Jones Alderson\n",
      "Brown Parker\n",
      "Davis Beach\n",
      "Miller Hedger\n",
      "Wilson Elizabeth\n"
     ]
    }
   ],
   "source": [
    "with open(\"name1.txt\",'r',encoding=\"utf8\") as n1, open(\"name2.txt\",'r',encoding=\"utf8\") as n2:\n",
    "    for l1,l2 in zip(n1,n2):\n",
    "        print(' '.join(l1.split()+l2.split()))"
   ]
  },
  {
   "cell_type": "code",
   "execution_count": 99,
   "metadata": {},
   "outputs": [
    {
     "name": "stdout",
     "output_type": "stream",
     "text": [
      "[4, 6, 7, 24, 25, 50, 51, 55, 72, 98]\n",
      "[4, 6, 7, 24, 25, 50, 51, 55, 72, 98]\n"
     ]
    }
   ],
   "source": [
    "from random import randint\n",
    "obj1 = open('num.txt','w+',encoding=\"utf8\")\n",
    "l1 =[]\n",
    "for i in range(10):\n",
    "    l1.append(randint(1,100))\n",
    "\n",
    "obj1.write(str(sorted(l1)))\n",
    "obj1 = open('num.txt','r+',encoding=\"utf8\")\n",
    "data1 = obj1.read()\n",
    "\n",
    "obj2 = open('num2.txt','w+',encoding=\"utf8\")\n",
    "obj2.write(data1)\n",
    "obj2 = open('num2.txt','r+',encoding=\"utf8\")\n",
    "data2 = obj2.read()\n",
    "print(data2)"
   ]
  },
  {
   "cell_type": "markdown",
   "metadata": {},
   "source": [
    "## 2. Write a NumPy program to test whether any of the elements of a given array is non-zero."
   ]
  },
  {
   "cell_type": "code",
   "execution_count": 107,
   "metadata": {},
   "outputs": [
    {
     "name": "stdout",
     "output_type": "stream",
     "text": [
      "Non-Zero Array: True\n"
     ]
    }
   ],
   "source": [
    "import numpy as np\n",
    "arr1 = np.array([1,0,2,4,0])\n",
    "print(\"Non-Zero Array: {}\".format(np.any(arr1)))"
   ]
  },
  {
   "cell_type": "markdown",
   "metadata": {},
   "source": [
    "## 3.  Write a NumPy program to create an array of all the even integers from 30 to 70."
   ]
  },
  {
   "cell_type": "code",
   "execution_count": 129,
   "metadata": {},
   "outputs": [
    {
     "name": "stdout",
     "output_type": "stream",
     "text": [
      "[30 32 34 36 38 40 42 44 46 48 50 52 54 56 58 60 62 64 66 68 70]\n"
     ]
    }
   ],
   "source": [
    "arr2 = np.arange(30,71,2)\n",
    "print(arr2)"
   ]
  },
  {
   "cell_type": "markdown",
   "metadata": {},
   "source": [
    "## 4. Write a NumPy program to generate a random number between 0 and 1"
   ]
  },
  {
   "cell_type": "code",
   "execution_count": 110,
   "metadata": {},
   "outputs": [
    {
     "name": "stdout",
     "output_type": "stream",
     "text": [
      "0.9801594631967363\n"
     ]
    }
   ],
   "source": [
    "arr3 = np.random.random()\n",
    "print(arr3)"
   ]
  },
  {
   "cell_type": "markdown",
   "metadata": {},
   "source": [
    "## 5.  Write a NumPy program to find the real and imaginary parts of an array of complex numbers."
   ]
  },
  {
   "cell_type": "code",
   "execution_count": 119,
   "metadata": {},
   "outputs": [
    {
     "name": "stdout",
     "output_type": "stream",
     "text": [
      "Real Part of array: [ 1.  2. -7.]\n",
      "Img Part of array: [ 3.2 -6.1 -5.4]\n"
     ]
    }
   ],
   "source": [
    "arr4 = np.array([1+3.2j,2-6.1j,-7-5.4j])\n",
    "print(\"Real Part of array: {}\".format(np.real(arr4)))\n",
    "print(\"Img Part of array: {}\".format(np.imag(arr4)))"
   ]
  },
  {
   "cell_type": "markdown",
   "metadata": {},
   "source": [
    "## 6. Write a NumPy program to get the unique elements of an array.\n",
    "* Original array: [10 10 20 20 30 30].\n",
    "  Unique elements of the array: [10 20 30]\n",
    "* Original array:\n",
    "\n",
    "  ```[[1 1]\n",
    "   [2 3]]```\n",
    "  \n",
    "  Unique elements of the above array: [1 2 3]"
   ]
  },
  {
   "cell_type": "code",
   "execution_count": 128,
   "metadata": {},
   "outputs": [
    {
     "name": "stdout",
     "output_type": "stream",
     "text": [
      "Unique ele's are: [ 9 32 45]\n"
     ]
    }
   ],
   "source": [
    "arr5 = np.array([45,32,45,9,32,9])\n",
    "print(\"Unique ele's are: {}\".format(np.unique(arr5)))"
   ]
  },
  {
   "cell_type": "markdown",
   "metadata": {},
   "source": [
    "## 7. Write a NumPy program to create a function cube which cubes all the elements of an array."
   ]
  },
  {
   "cell_type": "code",
   "execution_count": 147,
   "metadata": {},
   "outputs": [
    {
     "name": "stdout",
     "output_type": "stream",
     "text": [
      "Original Array:  [1 2 3]\n",
      "Cube of Array:  [ 1  8 27]\n"
     ]
    }
   ],
   "source": [
    "arr6 = np.array([1,2,3])\n",
    "print(\"Original Array: \",arr6)\n",
    "for i in range(len(arr6)):\n",
    "    arr6[i] = pow(arr6[i],3)\n",
    "print(\"Cube of Array: \",arr6)"
   ]
  },
  {
   "cell_type": "markdown",
   "metadata": {},
   "source": [
    "## 8. Write a NumPy program to find the most frequent value in an array"
   ]
  },
  {
   "cell_type": "code",
   "execution_count": 140,
   "metadata": {},
   "outputs": [
    {
     "name": "stdout",
     "output_type": "stream",
     "text": [
      "[21 22 23 16 15 24 21 23 24 16 18 21 16 20 20 20 20 16 20 20]\n",
      "Most frequent Element: 20\n"
     ]
    }
   ],
   "source": [
    "arr7 = np.random.randint(15,25,20)\n",
    "print(arr7)\n",
    "print(\"Most frequent Element: {}\".format(np.bincount(arr7).argmax()))"
   ]
  }
 ],
 "metadata": {
  "kernelspec": {
   "display_name": "Python 3",
   "language": "python",
   "name": "python3"
  },
  "language_info": {
   "codemirror_mode": {
    "name": "ipython",
    "version": 3
   },
   "file_extension": ".py",
   "mimetype": "text/x-python",
   "name": "python",
   "nbconvert_exporter": "python",
   "pygments_lexer": "ipython3",
   "version": "3.7.7"
  }
 },
 "nbformat": 4,
 "nbformat_minor": 4
}
