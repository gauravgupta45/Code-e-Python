{
 "cells": [
  {
   "cell_type": "markdown",
   "metadata": {},
   "source": [
    "## 1. Write a function to calculate power of a number raised to other ( a^b ) using recursion."
   ]
  },
  {
   "cell_type": "code",
   "execution_count": 20,
   "metadata": {},
   "outputs": [
    {
     "name": "stdout",
     "output_type": "stream",
     "text": [
      "8\n"
     ]
    }
   ],
   "source": [
    "def power_fun(a,b):\n",
    "    if(b==1):\n",
    "        return a\n",
    "    else:\n",
    "        return(a*power_fun(a,b-1))\n",
    "print(power_fun(2,3))\n"
   ]
  },
  {
   "cell_type": "markdown",
   "metadata": {},
   "source": [
    "## 2. Write a program, which will find all such numbers between 1000 and 3000 (both included) such that each digit of the number is an even number. The numbers obtained should be printed in a comma-separated sequence on a single line."
   ]
  },
  {
   "cell_type": "code",
   "execution_count": 3,
   "metadata": {},
   "outputs": [
    {
     "name": "stdout",
     "output_type": "stream",
     "text": [
      "2000,2002,2004,2006,2008,2020,2022,2024,2026,2028,2040,2042,2044,2046,2048,2060,2062,2064,2066,2068,2080,2082,2084,2086,2088,2200,2202,2204,2206,2208,2220,2222,2224,2226,2228,2240,2242,2244,2246,2248,2260,2262,2264,2266,2268,2280,2282,2284,2286,2288,2400,2402,2404,2406,2408,2420,2422,2424,2426,2428,2440,2442,2444,2446,2448,2460,2462,2464,2466,2468,2480,2482,2484,2486,2488,2600,2602,2604,2606,2608,2620,2622,2624,2626,2628,2640,2642,2644,2646,2648,2660,2662,2664,2666,2668,2680,2682,2684,2686,2688,2800,2802,2804,2806,2808,2820,2822,2824,2826,2828,2840,2842,2844,2846,2848,2860,2862,2864,2866,2868,2880,2882,2884,2886,2888,"
     ]
    }
   ],
   "source": [
    "def check(num):\n",
    "    if(num == 0):\n",
    "        return True\n",
    "    else:\n",
    "        rem = num%10\n",
    "        if(rem%2==0):\n",
    "            num = (num - rem)/10\n",
    "            return check(num) \n",
    "\n",
    "for i in range(1000,3001):\n",
    "    if check(i):\n",
    "        print(i,end=\",\")"
   ]
  },
  {
   "cell_type": "markdown",
   "metadata": {},
   "source": [
    "## 3. From a list containing ints, strings and floats,print the types of each element."
   ]
  },
  {
   "cell_type": "code",
   "execution_count": 39,
   "metadata": {},
   "outputs": [
    {
     "name": "stdout",
     "output_type": "stream",
     "text": [
      "Human --> <class 'str'> \t86.68 --> <class 'float'> \t9889 --> <class 'int'> \t"
     ]
    }
   ],
   "source": [
    "l1 = [\"Human\",86.68,9889]\n",
    "for i in l1:\n",
    "    print(\"{0} --> {1} \".format(i,type(i)),end = \"\\t\")"
   ]
  },
  {
   "cell_type": "markdown",
   "metadata": {},
   "source": [
    "## 4. A shop will give discount of 10% if the cost of purchased quantity is more than 1000.Ask user for quantity. Assume one unit will cost 100. Judge and print total cost for user."
   ]
  },
  {
   "cell_type": "code",
   "execution_count": 48,
   "metadata": {},
   "outputs": [
    {
     "name": "stdout",
     "output_type": "stream",
     "text": [
      "Enter Quantity: 12\n",
      "Your Total (10% discount): 1080.00\n"
     ]
    }
   ],
   "source": [
    "n = int(input(\"Enter Quantity: \"))\n",
    "calc = n*100\n",
    "if(calc>1000):\n",
    "    print(\"Your Total (10% discount): {:.2f}\".format(calc-0.1*calc))\n",
    "else:\n",
    "    print(\"Your Total: {:.2f}\".format(calc))"
   ]
  },
  {
   "cell_type": "markdown",
   "metadata": {},
   "source": [
    "## 5. Write a program to show and handle following exceptions:\n",
    "* Import Error\n",
    "* Value Error\n",
    "* Index Error"
   ]
  },
  {
   "cell_type": "code",
   "execution_count": 14,
   "metadata": {},
   "outputs": [
    {
     "name": "stdout",
     "output_type": "stream",
     "text": [
      "cannot import name 'datetime' from 'time' (unknown location)\n",
      "division by zero\n",
      "list index out of range\n"
     ]
    }
   ],
   "source": [
    "# Import Error Handling:\n",
    "import sys\n",
    "try:\n",
    "    from time import datetime\n",
    "except Exception as e1:\n",
    "    print(e1)\n",
    "\n",
    "# Value Error Handling:\n",
    "try:\n",
    "    print(1/0)\n",
    "except Exception as e2:\n",
    "    print(e2)\n",
    "\n",
    "# Index Error Handling:\n",
    "l1 = ['Rose','Pink','Sky','Blue']\n",
    "try:\n",
    "    print(l1[10])\n",
    "except Exception as e2:\n",
    "    print(e2)"
   ]
  },
  {
   "cell_type": "markdown",
   "metadata": {},
   "source": [
    "## 6. Create a user-defined exception AgeTooSmallError() that warns the user when they have entered age less than 18. The code must keep taking input till the user enters the appropriate age number(less than 18). "
   ]
  },
  {
   "cell_type": "code",
   "execution_count": 31,
   "metadata": {},
   "outputs": [
    {
     "name": "stdout",
     "output_type": "stream",
     "text": [
      "Enter Your Age: 12\n",
      "Age less than 18\n",
      "Enter Your Age: 13\n",
      "Age less than 18\n",
      "Enter Your Age: 14\n",
      "Age less than 18\n",
      "Enter Your Age: 18\n"
     ]
    }
   ],
   "source": [
    "class AgeTooSmall(Exception):\n",
    "    pass\n",
    "age = int(input(\"Enter Your Age: \"))\n",
    "while age<18:\n",
    "    try:\n",
    "        if(age<18):\n",
    "            raise AgeTooSmall(\"Age less than 18\")\n",
    "    except Exception as e:\n",
    "        print(e)\n",
    "        age = int(input(\"Enter Your Age: \"))"
   ]
  },
  {
   "cell_type": "markdown",
   "metadata": {},
   "source": [
    "## 7. Name and handle the exception occured in the following program:"
   ]
  },
  {
   "cell_type": "code",
   "execution_count": 33,
   "metadata": {},
   "outputs": [
    {
     "name": "stdout",
     "output_type": "stream",
     "text": [
      "division by zero\n"
     ]
    }
   ],
   "source": [
    "#Zero Division Error\n",
    "a = 3\n",
    "if(a<4):\n",
    "    try:\n",
    "        a = a/(a-3)\n",
    "        print(a)\n",
    "    except ZeroDivisionError as e:\n",
    "        print(e)"
   ]
  },
  {
   "cell_type": "markdown",
   "metadata": {},
   "source": [
    "## 8. Create a list of integer elements by user input. Make a new list which will store square of elements of previous list."
   ]
  },
  {
   "cell_type": "code",
   "execution_count": 38,
   "metadata": {},
   "outputs": [
    {
     "name": "stdout",
     "output_type": "stream",
     "text": [
      "Enter List Elements: 3 2 4 5 6\n",
      "[9, 4, 16, 25, 36]\n"
     ]
    }
   ],
   "source": [
    "l1 = [int(x) for x in input(\"Enter List Elements: \").split()]\n",
    "l2 =[]\n",
    "for i in l1:\n",
    "    l2.append(i**2)\n",
    "print(l2)"
   ]
  }
 ],
 "metadata": {
  "kernelspec": {
   "display_name": "Python 3",
   "language": "python",
   "name": "python3"
  },
  "language_info": {
   "codemirror_mode": {
    "name": "ipython",
    "version": 3
   },
   "file_extension": ".py",
   "mimetype": "text/x-python",
   "name": "python",
   "nbconvert_exporter": "python",
   "pygments_lexer": "ipython3",
   "version": "3.7.7"
  }
 },
 "nbformat": 4,
 "nbformat_minor": 4
}
