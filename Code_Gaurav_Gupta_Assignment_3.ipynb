{
 "cells": [
  {
   "cell_type": "markdown",
   "metadata": {},
   "source": [
    "## 1. Ask user to enter age, sex (M or F), marital status (Y or N) and then using following rules print their place of service.\n",
    "* if employee is female, then she will work only in urban areas.\n",
    "* if employee is a male and age is in between 20 to 40 then he may work in anywhere\n",
    "* if employee is male and age is in between 40 t0 60 then he will work in urban areas only.\n",
    "* And any other input of age should print \"ERROR\". "
   ]
  },
  {
   "cell_type": "code",
   "execution_count": null,
   "metadata": {},
   "outputs": [],
   "source": [
    "age = int(input(\"Enter Your Age: \"))\n",
    "gen = input(\"Enter Your Gender(M/F): \")\n",
    "status = input(\"Martial Status(Y/N): \")\n",
    "if(gen == 'F'):\n",
    "    print(\"You will work only in Urban Areas.\")\n",
    "elif(gen == 'M' and age>=20 and age<=40):\n",
    "    print(\"You can work anywhere.\")\n",
    "elif(gen == 'M' and age>40 and age<=60):\n",
    "    print(\"You will work in urban areas only.\")\n",
    "else:\n",
    "    print(\"ERROR\")"
   ]
  },
  {
   "cell_type": "markdown",
   "metadata": {},
   "source": [
    "## 2. Create a dictionary and store student names and create nested dictionary to store the subject wise marks of every student. Print the marks of a given student from that dictionary for every subject."
   ]
  },
  {
   "cell_type": "code",
   "execution_count": null,
   "metadata": {},
   "outputs": [],
   "source": [
    "stud = {\"Leon\":{\"Sci: \": 23,\"Maths: \": 53,\"Eng: \":52, \"Hindi: \":13 },\"Markesh\":{\"Sci: \":57,\"Maths: \":79 ,\"Eng: \":64 ,\"Hindi: \":32 }, \"Alderson\":{\"Sci: \": 99,\"Maths: \":90 ,\"Eng: \":80 ,\"Hindi: \":97  }, \"Luke\":{\"Sci: \":79 ,\"Maths: \":88, \"Eng: \":67 ,\"Hindi: \":48  }, \"Harley\":{\"Sci: \":91,\"Maths: \":60 ,\"Eng: \":64 ,\"Hindi: \":82}}\n",
    "print(\"Alderson's Result: \",stud[\"Alderson\"])"
   ]
  },
  {
   "cell_type": "markdown",
   "metadata": {},
   "source": [
    "## 3. Create a user defined dictionary and get keys corresponding to the value using for loop."
   ]
  },
  {
   "cell_type": "code",
   "execution_count": null,
   "metadata": {},
   "outputs": [],
   "source": [
    "s = int(input(\"Enter no. of items to be added in dictionary: \"))\n",
    "dict1 = {}\n",
    "for i in range(0,s):\n",
    "    key_ip = input(\"Enter Key: \")\n",
    "    value_ip = input(\"Enter corresponding value: \")\n",
    "    dict1[key_ip] = value_ip\n",
    "print(dict1)"
   ]
  },
  {
   "cell_type": "markdown",
   "metadata": {},
   "source": [
    "## 4. From a list containing ints, floats and string, make three lists to store them seperately.\n",
    "\n"
   ]
  },
  {
   "cell_type": "code",
   "execution_count": null,
   "metadata": {},
   "outputs": [],
   "source": [
    "l1 = []\n",
    "l2 = []\n",
    "l3 = []\n",
    "\n",
    "list1 = [45,'invisible','archer',6.2,10.0,24,'book']\n",
    "\n",
    "for i in list1:\n",
    "    if(str(type(i)) == \"<class 'int'>\"):\n",
    "        l1.append(i)\n",
    "    elif(str(type(i)) == \"<class 'str'>\"):\n",
    "        l2.append(i)\n",
    "    elif(str(type(i)) == \"<class 'float'>\"):\n",
    "        l3.append(i)\n",
    "print(\"Integer List: \",l1)\n",
    "print(\"String List: \",l2)\n",
    "print(\"Float List: \",l3)"
   ]
  },
  {
   "cell_type": "markdown",
   "metadata": {},
   "source": [
    "## 5. Take inputs from user to make a list. Again, take one input from user and search it in the list and delete that element, if found. Iterate over list using for loop."
   ]
  },
  {
   "cell_type": "code",
   "execution_count": 1,
   "metadata": {},
   "outputs": [
    {
     "name": "stdout",
     "output_type": "stream",
     "text": [
      "Enter List Size: 3\n",
      "Enter List Data: 12\n",
      "Enter List Data: 23\n",
      "Enter List Data: 12\n",
      "Enter element to search for: 12\n",
      "[23, 12]\n"
     ]
    }
   ],
   "source": [
    "s = int(input(\"Enter List Size: \"))\n",
    "l1 =[]\n",
    "for i in range(0,s):\n",
    "    data = input(\"Enter List Data: \")\n",
    "    if(data.isdigit()):\n",
    "        data = int(data)\n",
    "    elif(\".\" in data):\n",
    "        data = float(data)\n",
    "    l1.append(data)\n",
    "search = input(\"Enter element to search for: \")\n",
    "if(search.isdigit()):\n",
    "    search = int(search)\n",
    "elif(\".\" in search):\n",
    "    search = float(search)\n",
    "temp = len(l1)\n",
    "if search in l1:\n",
    "    l1.remove(search)   \n",
    "print(l1)"
   ]
  },
  {
   "cell_type": "markdown",
   "metadata": {},
   "source": [
    "### 6. Using loop print the following pattern:\n",
    "          *\n",
    "         ***\n",
    "        *****\n",
    "       *******\n",
    "      *********"
   ]
  },
  {
   "cell_type": "code",
   "execution_count": null,
   "metadata": {},
   "outputs": [],
   "source": [
    "n=6\n",
    "for i in range(0,n):\n",
    "    for j in range(0,n-i):\n",
    "        print(end=\" \")\n",
    "    for j in range(i,0,-1):\n",
    "        print(\"*\",end=\"\")\n",
    "    for j in range(2,i+1):\n",
    "        print(\"*\",end=\"\")\n",
    "    print()"
   ]
  },
  {
   "cell_type": "markdown",
   "metadata": {},
   "source": [
    "# 7. Using loop print the following pattern:\n",
    "```\n",
    "*\n",
    "**\n",
    "***\n",
    "****\n",
    "*****\n",
    "******\n",
    "*******\n",
    "******\n",
    "*****\n",
    "****\n",
    "***\n",
    "**\n",
    "*\n",
    "```"
   ]
  },
  {
   "cell_type": "code",
   "execution_count": null,
   "metadata": {},
   "outputs": [],
   "source": [
    "for i in range(0,7):\n",
    "    for j in range(0,i+1):\n",
    "        print(\"*\",end=\"\")\n",
    "    print('\\r')\n",
    "for i in range(7,0,-1):\n",
    "    for j in range(0,i-1):\n",
    "        print(\"*\",end=\"\")\n",
    "    print('\\r')"
   ]
  },
  {
   "cell_type": "markdown",
   "metadata": {},
   "source": [
    "## 8. Print multiplication table of 14 from a list in which multiplication table of 12 is stored."
   ]
  },
  {
   "cell_type": "code",
   "execution_count": null,
   "metadata": {},
   "outputs": [],
   "source": [
    "l12 = []\n",
    "for i in range(1,11):\n",
    "    l12.append(12*i)\n",
    "l14 = []\n",
    "for i in range(1,11):\n",
    "    l14.append((l12[i-1]+2*i))\n",
    "print(l14)"
   ]
  }
 ],
 "metadata": {
  "kernelspec": {
   "display_name": "Python 3",
   "language": "python",
   "name": "python3"
  },
  "language_info": {
   "codemirror_mode": {
    "name": "ipython",
    "version": 3
   },
   "file_extension": ".py",
   "mimetype": "text/x-python",
   "name": "python",
   "nbconvert_exporter": "python",
   "pygments_lexer": "ipython3",
   "version": "3.7.7"
  }
 },
 "nbformat": 4,
 "nbformat_minor": 4
}
