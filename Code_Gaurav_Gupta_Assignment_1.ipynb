{
 "cells": [
  {
   "cell_type": "markdown",
   "metadata": {},
   "source": [
    "## 1. Find the area of circle pi = 3.14. Take radius as input from user and then print the area of circle\n"
   ]
  },
  {
   "cell_type": "code",
   "execution_count": 1,
   "metadata": {},
   "outputs": [
    {
     "name": "stdout",
     "output_type": "stream",
     "text": [
      "Enter Radius of circle: 45\n",
      "Area of circle is: 6358.5\n"
     ]
    }
   ],
   "source": [
    "r = int(input(\"Enter Radius of circle: \"))\n",
    "print(\"Area of circle is: {}\".format(3.14*pow(r,2)))"
   ]
  },
  {
   "cell_type": "markdown",
   "metadata": {},
   "source": [
    "## 2. Take length of two sides of a right angled triangle as input and store it in two seprate variables. Calculate and print the hypotenuse."
   ]
  },
  {
   "cell_type": "code",
   "execution_count": 2,
   "metadata": {},
   "outputs": [
    {
     "name": "stdout",
     "output_type": "stream",
     "text": [
      "Enter Perpendicular length of triangle: 3\n",
      "Enter Base length of triangle: 4\n",
      "Hypotenuse of the triangle is: 5\n"
     ]
    }
   ],
   "source": [
    "from math import sqrt\n",
    "p = int(input(\"Enter Perpendicular length of triangle: \"))\n",
    "b = int(input(\"Enter Base length of triangle: \"))\n",
    "print(\"Hypotenuse of the triangle is: {}\".format(int(sqrt(pow(p,2)+pow(b,2)))))"
   ]
  },
  {
   "cell_type": "markdown",
   "metadata": {},
   "source": [
    "## 3. Store your Email-Id as a string input in a variable. Extract the domain from it and store in other variable then print it."
   ]
  },
  {
   "cell_type": "code",
   "execution_count": 3,
   "metadata": {},
   "outputs": [
    {
     "name": "stdout",
     "output_type": "stream",
     "text": [
      "Enter your Email-Id: gauravgupta0045@gmail.com\n",
      "Domain is : gmail.com\n"
     ]
    }
   ],
   "source": [
    "s = input(\"Enter your Email-Id: \")\n",
    "domain = s.split('@')\n",
    "print(\"Domain is : {}\".format(domain[1]))"
   ]
  },
  {
   "cell_type": "markdown",
   "metadata": {},
   "source": [
    "## 4. Take a small senetnce as an input and store the words as a list seperated by comma."
   ]
  },
  {
   "cell_type": "code",
   "execution_count": 4,
   "metadata": {},
   "outputs": [
    {
     "name": "stdout",
     "output_type": "stream",
     "text": [
      "Enter a string:Some random string\n",
      "['Some', 'random', 'string']\n"
     ]
    }
   ],
   "source": [
    "s = input(\"Enter a string:\")\n",
    "print(s.split())"
   ]
  },
  {
   "cell_type": "markdown",
   "metadata": {},
   "source": [
    "## 5. Check wether a string is palindrome or not. "
   ]
  },
  {
   "cell_type": "code",
   "execution_count": 11,
   "metadata": {},
   "outputs": [
    {
     "name": "stdout",
     "output_type": "stream",
     "text": [
      "Enter a String: tenet\n",
      "Palindrome\n"
     ]
    }
   ],
   "source": [
    "s = input(\"Enter a String: \")\n",
    "print(\"Palindrome\") if(s == s[::-1]) else print(\"Not Palindrome\")"
   ]
  },
  {
   "cell_type": "markdown",
   "metadata": {},
   "source": [
    "## 6. Enter the longest word you know. Remove letters at odd location and store it in other variable. Print the new variable."
   ]
  },
  {
   "cell_type": "code",
   "execution_count": 23,
   "metadata": {},
   "outputs": [
    {
     "name": "stdout",
     "output_type": "stream",
     "text": [
      "Odd: nmgntvl\n"
     ]
    }
   ],
   "source": [
    "s1 = \"Unimaginatively\"\n",
    "s2 = s1[1::2]\n",
    "print(\"Even: {}\".format(s2))"
   ]
  },
  {
   "cell_type": "markdown",
   "metadata": {},
   "source": [
    "## 7. Seperate the username from email id and store in a different variable.\n",
    "* Print that variable and then,\n",
    "* Sort the newly created variable in asc order of their alphabets and then print."
   ]
  },
  {
   "cell_type": "code",
   "execution_count": 3,
   "metadata": {},
   "outputs": [
    {
     "name": "stdout",
     "output_type": "stream",
     "text": [
      "Enter your Email-Id: gauravgupta0045@gmail.com\n",
      "Username: gauravgupta0045\n",
      "Username in asc order: 0 0 4 5 a a a g g p r t u u v\n"
     ]
    }
   ],
   "source": [
    "s = input(\"Enter your Email-Id: \")\n",
    "username = s.split('@')\n",
    "print(\"Username: {}\".format(username[0]))\n",
    "asc = sorted(username[0]) #asc is a list\n",
    "\n",
    "# Methods 2 convert a list to string. \n",
    "asc = ' '.join(map(str,asc)) #Using map\n",
    "#asc = ' '.join(str(x) for x in asc) #Using join\n",
    "\n",
    "print(\"Username in asc order: {}\".format(asc))"
   ]
  },
  {
   "cell_type": "markdown",
   "metadata": {},
   "source": [
    "## 8. Store your name, roll no, branch and year in different variables and generate email Id similar to your Chitkara Id using python. Store it in different variable and then print it."
   ]
  },
  {
   "cell_type": "code",
   "execution_count": null,
   "metadata": {},
   "outputs": [],
   "source": [
    "name = input(\"Enter Your Name: \").split(\" \")[0].lower()\n",
    "roll = input(\"Enter Your Roll No.: \")[6:]\n",
    "branch = input(\"Enter your branch: \").lower()\n",
    "year = input(\"Enter Joining Year: \")[2:]\n",
    "mail = name + roll + '.' + branch + year + '@chitkara.edu.in'\n",
    "print(\"Your mail id is: {}\".format(mail))"
   ]
  }
 ],
 "metadata": {
  "kernelspec": {
   "display_name": "Python 3",
   "language": "python",
   "name": "python3"
  },
  "language_info": {
   "codemirror_mode": {
    "name": "ipython",
    "version": 3
   },
   "file_extension": ".py",
   "mimetype": "text/x-python",
   "name": "python",
   "nbconvert_exporter": "python",
   "pygments_lexer": "ipython3",
   "version": "3.7.7"
  }
 },
 "nbformat": 4,
 "nbformat_minor": 4
}
